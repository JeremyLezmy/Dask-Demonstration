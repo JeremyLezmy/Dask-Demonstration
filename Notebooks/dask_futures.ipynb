{
 "cells": [
  {
   "cell_type": "code",
   "execution_count": 1,
   "id": "eddeafb4-a3d0-48dc-8fd6-6cfbe4aa67f6",
   "metadata": {},
   "outputs": [],
   "source": [
    "%matplotlib widget"
   ]
  },
  {
   "cell_type": "code",
   "execution_count": 1,
   "id": "107e5aca-2c1f-4009-9066-bd5e8441dfa0",
   "metadata": {},
   "outputs": [],
   "source": [
    "from dask.distributed import Client, LocalCluster\n",
    "import numpy as np\n",
    "import time\n",
    "\n",
    "cluster = LocalCluster()\n",
    "client = Client(cluster) # Same as client=Client()"
   ]
  },
  {
   "cell_type": "code",
   "execution_count": 4,
   "id": "2fbf3731-dab6-49e4-af26-db9d3442df3f",
   "metadata": {},
   "outputs": [],
   "source": [
    "def load(x):\n",
    "    time.sleep(0.2)\n",
    "    return np.arange(10000) + x\n",
    "\n",
    "def process(x,y):\n",
    "    return 2*x + y\n",
    "\n",
    "def save(x):\n",
    "    time.sleep(0.2)\n",
    "    return 'Saved'"
   ]
  },
  {
   "cell_type": "code",
   "execution_count": 6,
   "id": "16fc7023-0f53-4d42-9e6e-b6c6414378b9",
   "metadata": {},
   "outputs": [
    {
     "data": {
      "text/html": [
       "<strong>Future: save</strong>\n",
       "<span style=\"color: var(--jp-ui-font-color2, gray)\"> status: </span>\n",
       "\n",
       "\n",
       "<span style=\"color: var(--jp-error-color0, black)\">pending</span>,\n",
       "\n",
       "\n",
       "\n",
       "<span style=\"color: var(--jp-ui-font-color2, gray)\"> type:</span> NoneType,\n",
       "\n",
       "\n",
       "<span style=\"color: var(--jp-ui-font-color2, gray)\"> key:</span> save-29b8cb01cbf44b2f506fafba875977bf"
      ],
      "text/plain": [
       "<Future: pending, key: save-29b8cb01cbf44b2f506fafba875977bf>"
      ]
     },
     "execution_count": 6,
     "metadata": {},
     "output_type": "execute_result"
    }
   ],
   "source": [
    "inputs_1, inputs_2 = np.arange(0,50), np.arange(50,100)\n",
    "futures = []\n",
    "\n",
    "for i,j in zip(inputs_1,inputs_2):\n",
    "    x = client.submit(load, i) #client.submit(fucn, *args)\n",
    "    y = client.submit(load, j)\n",
    "    p = client.submit(process, x,y)\n",
    "    z = client.submit(save, p)\n",
    "    futures.append(z)\n",
    "z"
   ]
  },
  {
   "cell_type": "code",
   "execution_count": 7,
   "id": "6f46022f-2590-4df5-934d-25176e58cb68",
   "metadata": {},
   "outputs": [
    {
     "data": {
      "text/html": [
       "<strong>Future: save</strong>\n",
       "<span style=\"color: var(--jp-ui-font-color2, gray)\"> status: </span>\n",
       "\n",
       "\n",
       "<span style=\"color: var(--jp-error-color0, black)\">finished</span>,\n",
       "\n",
       "\n",
       "\n",
       "<span style=\"color: var(--jp-ui-font-color2, gray)\"> type:</span> str,\n",
       "\n",
       "\n",
       "<span style=\"color: var(--jp-ui-font-color2, gray)\"> key:</span> save-29b8cb01cbf44b2f506fafba875977bf"
      ],
      "text/plain": [
       "<Future: finished, type: str, key: save-29b8cb01cbf44b2f506fafba875977bf>"
      ]
     },
     "execution_count": 7,
     "metadata": {},
     "output_type": "execute_result"
    }
   ],
   "source": [
    "z"
   ]
  },
  {
   "cell_type": "code",
   "execution_count": 8,
   "id": "dc51304a-2d4e-4c5f-ae9b-fb8824ad3711",
   "metadata": {},
   "outputs": [],
   "source": [
    "#result = [future.result() for future in futures]\n",
    "results = client.gather(futures) ### faster"
   ]
  },
  {
   "cell_type": "code",
   "execution_count": 9,
   "id": "6e1c10d4-3b5a-4fd8-b595-2518ae8821bf",
   "metadata": {},
   "outputs": [
    {
     "data": {
      "text/plain": [
       "['Saved',\n",
       " 'Saved',\n",
       " 'Saved',\n",
       " 'Saved',\n",
       " 'Saved',\n",
       " 'Saved',\n",
       " 'Saved',\n",
       " 'Saved',\n",
       " 'Saved',\n",
       " 'Saved',\n",
       " 'Saved',\n",
       " 'Saved',\n",
       " 'Saved',\n",
       " 'Saved',\n",
       " 'Saved',\n",
       " 'Saved',\n",
       " 'Saved',\n",
       " 'Saved',\n",
       " 'Saved',\n",
       " 'Saved',\n",
       " 'Saved',\n",
       " 'Saved',\n",
       " 'Saved',\n",
       " 'Saved',\n",
       " 'Saved',\n",
       " 'Saved',\n",
       " 'Saved',\n",
       " 'Saved',\n",
       " 'Saved',\n",
       " 'Saved',\n",
       " 'Saved',\n",
       " 'Saved',\n",
       " 'Saved',\n",
       " 'Saved',\n",
       " 'Saved',\n",
       " 'Saved',\n",
       " 'Saved',\n",
       " 'Saved',\n",
       " 'Saved',\n",
       " 'Saved',\n",
       " 'Saved',\n",
       " 'Saved',\n",
       " 'Saved',\n",
       " 'Saved',\n",
       " 'Saved',\n",
       " 'Saved',\n",
       " 'Saved',\n",
       " 'Saved',\n",
       " 'Saved',\n",
       " 'Saved']"
      ]
     },
     "execution_count": 9,
     "metadata": {},
     "output_type": "execute_result"
    }
   ],
   "source": [
    "results"
   ]
  },
  {
   "cell_type": "code",
   "execution_count": 8,
   "id": "cb45df77-1e3e-487c-bebb-10779d5bb2bd",
   "metadata": {},
   "outputs": [],
   "source": [
    "data = np.arange(0,6,1)"
   ]
  },
  {
   "cell_type": "code",
   "execution_count": 9,
   "id": "460bfa3e-14ed-42db-8411-01ae40ea541d",
   "metadata": {},
   "outputs": [],
   "source": [
    "from dask import delayed\n",
    "@delayed\n",
    "def inc(x):\n",
    "    return x + 1\n",
    "@delayed\n",
    "def custom_op(x):\n",
    "    return 2*x**2\n",
    "@delayed\n",
    "def add(x, y):\n",
    "    return x + y"
   ]
  },
  {
   "cell_type": "code",
   "execution_count": 10,
   "id": "40ae2944-c370-44cc-a69b-9d2b9e76a56d",
   "metadata": {},
   "outputs": [],
   "source": [
    "@delayed\n",
    "def plot(a,b,savefile=None):\n",
    "    fig,ax = plt.subplots(figsize=(5,2) )\n",
    "    ax.scatter(a,b, marker='o', facecolor='0.8', edgecolor='0.2')\n",
    "    ax.set_xlabel(r'$x+1$')\n",
    "    ax.set_ylabel(r'$2x^{2}$')\n",
    "    ax.spines[['right','top']].set_visible(False)\n",
    "    fig.tight_layout()\n",
    "    if savefile != None:\n",
    "        fig.savefig(savefile,transparent=True)\n",
    "        return\n",
    "    return fig"
   ]
  },
  {
   "cell_type": "code",
   "execution_count": 11,
   "id": "ea220c58-af0b-4899-8e86-10be2ce75190",
   "metadata": {},
   "outputs": [],
   "source": [
    "def compute_single(data, show=False, savefile=None):\n",
    "    \n",
    "    stored =[]\n",
    "    a = [inc(x) for x in data]\n",
    "    b = [custom_op(x) for x in data]\n",
    "    output = [add(i, j) for i,j in zip(a,b)]\n",
    "    stored.append(delayed(sum)(output))\n",
    "    if not show:\n",
    "        return stored\n",
    "    stored.append( plot(a,b,savefile) )\n",
    "    return stored\n",
    "        "
   ]
  },
  {
   "cell_type": "code",
   "execution_count": 12,
   "id": "fd7ea08b-e985-4944-b4b9-9cb05beda218",
   "metadata": {},
   "outputs": [
    {
     "data": {
      "text/plain": [
       "[Delayed('sum-046f216b-da24-415a-a55a-3a965721de5c'),\n",
       " Delayed('plot-b957f290-ed7b-4dc5-8dc8-d94b176f649d')]"
      ]
     },
     "execution_count": 12,
     "metadata": {},
     "output_type": "execute_result"
    },
    {
     "name": "stderr",
     "output_type": "stream",
     "text": [
      "2023-06-16 05:32:17,765 - distributed.scheduler - WARNING - Worker failed to heartbeat within 300 seconds. Closing: <WorkerState 'tcp://127.0.0.1:53203', name: 3, status: running, memory: 16, processing: 0>\n",
      "2023-06-16 05:32:17,977 - distributed.scheduler - WARNING - Worker failed to heartbeat within 300 seconds. Closing: <WorkerState 'tcp://127.0.0.1:53209', name: 2, status: running, memory: 12, processing: 0>\n",
      "2023-06-16 05:32:17,997 - distributed.scheduler - WARNING - Received heartbeat from unregistered worker 'tcp://127.0.0.1:53203'.\n",
      "2023-06-16 05:32:17,997 - distributed.scheduler - WARNING - Received heartbeat from unregistered worker 'tcp://127.0.0.1:53209'.\n",
      "2023-06-16 05:32:22,604 - distributed.nanny - WARNING - Restarting worker\n",
      "2023-06-16 05:32:22,716 - distributed.nanny - WARNING - Restarting worker\n",
      "2023-06-16 14:07:11,929 - distributed.scheduler - WARNING - Worker failed to heartbeat within 300 seconds. Closing: <WorkerState 'tcp://127.0.0.1:53206', name: 0, status: running, memory: 28, processing: 0>\n",
      "2023-06-16 14:07:11,959 - distributed.scheduler - WARNING - Received heartbeat from unregistered worker 'tcp://127.0.0.1:53206'.\n",
      "2023-06-16 14:07:16,430 - distributed.nanny - WARNING - Worker process still alive after 3.999993705749512 seconds, killing\n",
      "2023-06-16 14:07:16,430 - distributed.nanny - WARNING - Worker process still alive after 3.9999973297119142 seconds, killing\n",
      "2023-06-16 14:07:16,529 - distributed.nanny - WARNING - Restarting worker\n"
     ]
    }
   ],
   "source": [
    "stored = compute_single(data=np.arange(0,6,1), \n",
    "                        show=True, savefile=None)\n",
    "stored"
   ]
  },
  {
   "cell_type": "code",
   "execution_count": 17,
   "id": "bb5a76cc-dd0e-41c2-a5d1-f36914068cf9",
   "metadata": {},
   "outputs": [
    {
     "data": {
      "text/plain": [
       "[131, <Figure size 500x200 with 1 Axes>]"
      ]
     },
     "execution_count": 17,
     "metadata": {},
     "output_type": "execute_result"
    },
    {
     "data": {
      "application/vnd.jupyter.widget-view+json": {
       "model_id": "721d8cc68ac14bad9617b18cdb39ea5c",
       "version_major": 2,
       "version_minor": 0
      },
      "image/png": "[encoded data removed]",
      "text/html": [
       "\n",
       "            <div style=\"display: inline-block;\">\n",
       "                <div class=\"jupyter-widgets widget-label\" style=\"text-align: center;\">\n",
       "                    Figure\n",
       "                </div>\n",
       "                <img src='data:image/png;base64,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' width=500.0/>\n",
       "            </div>\n",
       "        "
      ],
      "text/plain": [
       "Canvas(toolbar=Toolbar(toolitems=[('Home', 'Reset original view', 'home', 'home'), ('Back', 'Back to previous …"
      ]
     },
     "metadata": {},
     "output_type": "display_data"
    }
   ],
   "source": [
    "future = client.compute(stored)\n",
    "results = client.gather(future);\n",
    "results"
   ]
  },
  {
   "cell_type": "code",
   "execution_count": 10,
   "id": "a35ce9d6-d035-4658-a697-9b7fb0407bfe",
   "metadata": {},
   "outputs": [],
   "source": [
    "client.close()\n",
    "cluster.close()"
   ]
  },
  {
   "cell_type": "code",
   "execution_count": null,
   "id": "ae8de070-1a18-4478-8591-7c6512294460",
   "metadata": {},
   "outputs": [],
   "source": []
  }
 ],
 "metadata": {
  "kernelspec": {
   "display_name": "Python 3 (ipykernel)",
   "language": "python",
   "name": "python3"
  },
  "language_info": {
   "codemirror_mode": {
    "name": "ipython",
    "version": 3
   },
   "file_extension": ".py",
   "mimetype": "text/x-python",
   "name": "python",
   "nbconvert_exporter": "python",
   "pygments_lexer": "ipython3",
   "version": "3.9.13"
  }
 },
 "nbformat": 4,
 "nbformat_minor": 5
}
